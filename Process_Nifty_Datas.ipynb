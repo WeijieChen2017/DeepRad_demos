{
 "cells": [
  {
   "cell_type": "markdown",
   "metadata": {},
   "source": [
    "### This notebook will show how to load a folder of nifty datasets."
   ]
  },
  {
   "cell_type": "code",
   "execution_count": 1,
   "metadata": {},
   "outputs": [],
   "source": [
    "import os\n",
    "import glob\n",
    "import nibabel as nib\n",
    "import numpy as np"
   ]
  },
  {
   "cell_type": "markdown",
   "metadata": {},
   "source": [
    "### The target folder is in the root and named as \"datasets\"."
   ]
  },
  {
   "cell_type": "code",
   "execution_count": 2,
   "metadata": {},
   "outputs": [
    {
     "name": "stdout",
     "output_type": "stream",
     "text": [
      "datasets/flair.nii.gz\n",
      "datasets/t1.nii.gz\n",
      "datasets/t1ce.nii.gz\n",
      "datasets/t2.nii.gz\n",
      "datasets/truth.nii.gz\n"
     ]
    }
   ],
   "source": [
    "file_path = 'datasets'\n",
    "# load .nii and .nii.gz files\n",
    "file_list = glob.glob(os.path.join(file_path, '*.nii.gz'))+glob.glob(os.path.join(file_path, '*.nii'))\n",
    "file_list.sort()\n",
    "for file_name in file_list:\n",
    "    print(file_name)"
   ]
  },
  {
   "cell_type": "markdown",
   "metadata": {},
   "source": [
    "### store data, affines and headers in three lists."
   ]
  },
  {
   "cell_type": "code",
   "execution_count": 3,
   "metadata": {},
   "outputs": [
    {
     "name": "stdout",
     "output_type": "stream",
     "text": [
      "5\n",
      "5\n",
      "5\n"
     ]
    }
   ],
   "source": [
    "data_hub = []\n",
    "affines_hub = []\n",
    "headers_hub = []\n",
    "\n",
    "for file_name in file_list:\n",
    "    file_nii = nib.load(file_name)\n",
    "    data_hub.append(file_nii.get_fdata())\n",
    "    affines_hub.append(file_nii.affine)\n",
    "    headers_hub.append(file_nii.header)\n",
    "\n",
    "print(len(data_hub))\n",
    "print(len(affines_hub))\n",
    "print(len(headers_hub))"
   ]
  },
  {
   "cell_type": "markdown",
   "metadata": {},
   "source": [
    "### Each item in data_hub is a ndarray, which can be manipulated as needed."
   ]
  },
  {
   "cell_type": "code",
   "execution_count": 4,
   "metadata": {},
   "outputs": [
    {
     "name": "stdout",
     "output_type": "stream",
     "text": [
      "(240, 240, 155)\n"
     ]
    }
   ],
   "source": [
    "print(data_hub[0].shape)"
   ]
  },
  {
   "cell_type": "markdown",
   "metadata": {},
   "source": [
    "### This is a demo of output a nifty file"
   ]
  },
  {
   "cell_type": "code",
   "execution_count": 5,
   "metadata": {},
   "outputs": [],
   "source": [
    "output_folder = 'output'\n",
    "output_name = 'test_output.nii'\n",
    "\n",
    "# check whether output folder exists, create one if not.\n",
    "if not os.path.exists(output_folder):\n",
    "        os.makedirs(output_folder)\n",
    "\n",
    "\n",
    "nii_file = nib.Nifti1Image(data_hub[0], affines_hub[0], headers_hub[0])\n",
    "nib.save(nii_file, os.path.join(output_folder,output_name))"
   ]
  }
 ],
 "metadata": {
  "kernelspec": {
   "display_name": "Python 3",
   "language": "python",
   "name": "python3"
  },
  "language_info": {
   "codemirror_mode": {
    "name": "ipython",
    "version": 3
   },
   "file_extension": ".py",
   "mimetype": "text/x-python",
   "name": "python",
   "nbconvert_exporter": "python",
   "pygments_lexer": "ipython3",
   "version": "3.6.8"
  }
 },
 "nbformat": 4,
 "nbformat_minor": 2
}
